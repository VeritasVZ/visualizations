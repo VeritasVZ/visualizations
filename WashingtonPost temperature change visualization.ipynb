{
 "cells": [
  {
   "cell_type": "code",
   "execution_count": null,
   "metadata": {},
   "outputs": [],
   "source": [
    "import matplotlib.pyplot as plt\n",
    "import numpy as np\n",
    "import pandas as pd\n"
   ]
  },
  {
   "cell_type": "code",
   "execution_count": null,
   "metadata": {},
   "outputs": [],
   "source": [
    "loading and investigating the data\n",
    "df = pd.read_csv('UCU_practice/hw1/GLB.Ts+dSST.csv', header = 1)"
   ]
  },
  {
   "cell_type": "code",
   "execution_count": null,
   "metadata": {},
   "outputs": [],
   "source": [
    "#recalculate\n",
    "month = df.columns[1:13]\n",
    "\n",
    "df_copy = df.set_index('Year').loc[:, month]\n",
    "ave = df_copy.loc[1951:1981].mean(axis = 0)\n",
    "\n",
    "for idx, data in df_copy.iterrows():\n",
    "    df_copy.loc[idx] = data - ave"
   ]
  }
 ],
 "metadata": {
  "kernelspec": {
   "display_name": "Python 3",
   "language": "python",
   "name": "python3"
  },
  "language_info": {
   "codemirror_mode": {
    "name": "ipython",
    "version": 3
   },
   "file_extension": ".py",
   "mimetype": "text/x-python",
   "name": "python",
   "nbconvert_exporter": "python",
   "pygments_lexer": "ipython3",
   "version": "3.7.0"
  }
 },
 "nbformat": 4,
 "nbformat_minor": 2
}
